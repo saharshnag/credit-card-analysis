{
 "cells": [
  {
   "cell_type": "markdown",
   "id": "33344cab-a5cd-4b40-a51f-d73913bf2416",
   "metadata": {},
   "source": [
    "# -------------------------------------------------------------------\n",
    "# Script: 03_data_cleaning_upload.py\n",
    "# Purpose: Clean raw datasets and upload cleaned tables to MySQL\n",
    "# Project: Credit Card Analytics\n",
    "# Author: Saharsh Nagisetty\n",
    "# -------------------------------------------------------------------"
   ]
  },
  {
   "cell_type": "markdown",
   "id": "597f782c-4a46-474b-af12-059828c4c7a3",
   "metadata": {},
   "source": [
    "# Step 1: Import Required Libraries"
   ]
  },
  {
   "cell_type": "code",
   "execution_count": null,
   "id": "8e5ed474-aeeb-4644-8b86-11da01c95b5c",
   "metadata": {},
   "outputs": [],
   "source": [
    "import pandas as pd"
   ]
  },
  {
   "cell_type": "code",
   "execution_count": null,
   "id": "23f032f7-64be-4727-9f56-83accb53aa39",
   "metadata": {},
   "outputs": [],
   "source": [
    "from sqlalchemy import create_engine"
   ]
  },
  {
   "cell_type": "code",
   "execution_count": null,
   "id": "9941cdda-7fdb-4a1a-b2d6-69ac865486f1",
   "metadata": {},
   "outputs": [],
   "source": [
    "import pymysql"
   ]
  },
  {
   "cell_type": "markdown",
   "id": "b3b59a11-25eb-4784-a7f4-71eac2605d16",
   "metadata": {},
   "source": [
    "# Replace with your own database credentials"
   ]
  },
  {
   "cell_type": "code",
   "execution_count": null,
   "id": "e85d48be-44c3-463f-9955-103206a0d8a4",
   "metadata": {},
   "outputs": [],
   "source": [
    "db_user = 'root'\n",
    "db_password = 'password_concealed'\n",
    "db_host = 'localhost'\n",
    "db_port = '3306'\n",
    "db_name = 'credit_card_analytics'"
   ]
  },
  {
   "cell_type": "markdown",
   "id": "358a8a0c-40c7-438a-b7b4-4b060eda7733",
   "metadata": {},
   "source": [
    "# Connection string"
   ]
  },
  {
   "cell_type": "code",
   "execution_count": null,
   "id": "aeb4c0f8-b533-45f1-9286-3ce9b4ec8af6",
   "metadata": {},
   "outputs": [],
   "source": [
    "engine = create_engine(f\"mysql+pymysql://{db_user}:{db_password}@{db_host}:{db_port}/{db_name}\")"
   ]
  },
  {
   "cell_type": "markdown",
   "id": "d555af39-b2c2-4246-8c62-861b4ee07914",
   "metadata": {},
   "source": [
    "# -------------------------------------------------------------------\n",
    "# 📂 Step 2: Load Raw Data\n",
    "# -------------------------------------------------------------------"
   ]
  },
  {
   "cell_type": "markdown",
   "id": "238300c7-7bd3-4630-afc9-c8fe51777e91",
   "metadata": {},
   "source": [
    "# Load credit risk dataset - original path concealed"
   ]
  },
  {
   "cell_type": "code",
   "execution_count": null,
   "id": "18083035-9075-48f6-91c0-12c3cff18ab4",
   "metadata": {},
   "outputs": [],
   "source": [
    "credit_risk_df = pd.read_csv('path_to/credit_risk_uci.csv')"
   ]
  },
  {
   "cell_type": "markdown",
   "id": "4da6d755-b61a-4c67-a02d-71eac83d21ac",
   "metadata": {},
   "source": [
    "# Load fraud dataset - original path concealed"
   ]
  },
  {
   "cell_type": "code",
   "execution_count": null,
   "id": "130e96b8-6a1f-4293-964a-e7f82a829491",
   "metadata": {},
   "outputs": [],
   "source": [
    "transactions_df = pd.read_csv('path_to/credit_card_transactions.csv')"
   ]
  },
  {
   "cell_type": "markdown",
   "id": "a87f5718-f519-4fec-89fb-adf82cd03210",
   "metadata": {},
   "source": [
    "# -------------------------------------------------------------------\n",
    "# 🧹 Step 3: Clean and Prepare Data\n",
    "# -------------------------------------------------------------------"
   ]
  },
  {
   "cell_type": "markdown",
   "id": "44ea7283-88a6-4eb2-9347-1d9845839fd5",
   "metadata": {},
   "source": [
    "# Example: Drop columns you don’t need (if any)\n",
    "# transactions_df.drop(columns=['some_column'], inplace=True)"
   ]
  },
  {
   "cell_type": "code",
   "execution_count": null,
   "id": "9f55e476-fe3f-4103-87f3-03fcd89b50cd",
   "metadata": {},
   "outputs": [],
   "source": [
    "# Rename columns for MySQL compatibility (optional)\n",
    "transactions_df.rename(columns={'long': 'longi'}, inplace=True)"
   ]
  },
  {
   "cell_type": "code",
   "execution_count": null,
   "id": "b98bb2cf-c101-4491-b924-fb03b851d3b5",
   "metadata": {},
   "outputs": [],
   "source": [
    "# Handle missing values\n",
    "print(\"Missing values in credit risk data:\\n\", credit_risk_df.isnull().sum())\n",
    "print(\"Missing values in transactions data:\\n\", transactions_df.isnull().sum())"
   ]
  },
  {
   "cell_type": "code",
   "execution_count": null,
   "id": "c51b19fb-8672-49bf-b882-55440e939072",
   "metadata": {},
   "outputs": [],
   "source": [
    "# Drop null rows or fill them as needed\n",
    "transactions_df.dropna(inplace=True)\n",
    "credit_risk_df.dropna(inplace=True)"
   ]
  },
  {
   "cell_type": "code",
   "execution_count": null,
   "id": "ed875b83-569e-496d-b743-6ffca89e441e",
   "metadata": {},
   "outputs": [],
   "source": [
    "# Confirm data types\n",
    "print(\"Transactions dtypes:\\n\", transactions_df.dtypes)\n",
    "print(\"Credit risk dtypes:\\n\", credit_risk_df.dtypes)"
   ]
  },
  {
   "cell_type": "code",
   "execution_count": null,
   "id": "7650ccfd-a7c8-447a-958c-60eedf57962e",
   "metadata": {},
   "outputs": [],
   "source": [
    "# Convert specific fields\n",
    "transactions_df['trans_date_trans_time'] = pd.to_datetime(transactions_df['trans_date_trans_time'])\n",
    "transactions_df['dob'] = pd.to_datetime(transactions_df['dob'])"
   ]
  },
  {
   "cell_type": "markdown",
   "id": "5f160321-4b99-4f99-a7fe-a01e925a68e0",
   "metadata": {},
   "source": [
    "# -------------------------------------------------------------------\n",
    "# 🛢️ Step 4: Upload Cleaned Data to MySQL\n",
    "# -------------------------------------------------------------------"
   ]
  },
  {
   "cell_type": "code",
   "execution_count": null,
   "id": "9a19c133-8882-490f-aab6-14d8e620ea54",
   "metadata": {},
   "outputs": [],
   "source": [
    "# Upload fraud transactions table\n",
    "transactions_df.to_sql(name='transactions_fraud', con=engine, if_exists='replace', index=False)"
   ]
  },
  {
   "cell_type": "code",
   "execution_count": null,
   "id": "8e956a1d-c270-40a5-9dcc-60e086d949ab",
   "metadata": {},
   "outputs": [],
   "source": [
    "# Upload credit risk table\n",
    "credit_risk_df.to_sql(name='credit_risk_uci', con=engine, if_exists='replace', index=False)"
   ]
  },
  {
   "cell_type": "code",
   "execution_count": null,
   "id": "986f3f36-6428-4554-b102-04db76d23ee4",
   "metadata": {},
   "outputs": [],
   "source": [
    "print(\"✅ Data uploaded to MySQL successfully.\")"
   ]
  },
  {
   "cell_type": "markdown",
   "id": "3032f1c0-a460-4b0d-a09d-584ccfefb6ae",
   "metadata": {},
   "source": [
    "# -------------------------------------------------------------------\n",
    "# 📌 Notes:\n",
    "# - Ensure MySQL server is running and DB/schema exists.\n",
    "# - Use MySQL Workbench or CLI to verify the uploaded tables.\n",
    "# -------------------------------------------------------------------"
   ]
  },
  {
   "cell_type": "code",
   "execution_count": null,
   "id": "f7876a25-3717-4a3e-b1e8-0bdba1cc4513",
   "metadata": {},
   "outputs": [],
   "source": []
  },
  {
   "cell_type": "code",
   "execution_count": null,
   "id": "0b3b5429-2ed3-4c8f-878d-f6235178c0c6",
   "metadata": {},
   "outputs": [],
   "source": []
  },
  {
   "cell_type": "code",
   "execution_count": null,
   "id": "3c9ed8ac-ddbc-41ef-8f93-9c846ab13046",
   "metadata": {},
   "outputs": [],
   "source": []
  },
  {
   "cell_type": "code",
   "execution_count": null,
   "id": "e427a299-d6db-4da4-8f3c-60db504d3c05",
   "metadata": {},
   "outputs": [],
   "source": []
  },
  {
   "cell_type": "code",
   "execution_count": null,
   "id": "920d1623-22ae-499c-9ff7-12c0f10f6ade",
   "metadata": {},
   "outputs": [],
   "source": []
  },
  {
   "cell_type": "code",
   "execution_count": null,
   "id": "578031e4-b3d3-4d8a-aeed-10709d5075b6",
   "metadata": {},
   "outputs": [],
   "source": []
  },
  {
   "cell_type": "code",
   "execution_count": null,
   "id": "384d9f35-1fcb-4218-bb6f-f7bb7f4532fd",
   "metadata": {},
   "outputs": [],
   "source": []
  },
  {
   "cell_type": "code",
   "execution_count": null,
   "id": "41e48064-ba53-47f4-9295-10d335f4a710",
   "metadata": {},
   "outputs": [],
   "source": []
  },
  {
   "cell_type": "code",
   "execution_count": null,
   "id": "3188bb8f-168a-401f-b734-41312f08635e",
   "metadata": {},
   "outputs": [],
   "source": []
  },
  {
   "cell_type": "code",
   "execution_count": null,
   "id": "5ec157b1-9503-407c-815d-58087b53e5c4",
   "metadata": {},
   "outputs": [],
   "source": []
  },
  {
   "cell_type": "code",
   "execution_count": null,
   "id": "e16e0694-d311-4f2c-9b27-2688b80b208f",
   "metadata": {},
   "outputs": [],
   "source": []
  }
 ],
 "metadata": {
  "kernelspec": {
   "display_name": "Python [conda env:base] *",
   "language": "python",
   "name": "conda-base-py"
  },
  "language_info": {
   "codemirror_mode": {
    "name": "ipython",
    "version": 3
   },
   "file_extension": ".py",
   "mimetype": "text/x-python",
   "name": "python",
   "nbconvert_exporter": "python",
   "pygments_lexer": "ipython3",
   "version": "3.12.7"
  }
 },
 "nbformat": 4,
 "nbformat_minor": 5
}
